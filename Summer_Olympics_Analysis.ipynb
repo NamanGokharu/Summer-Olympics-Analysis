{
 "cells": [
  {
   "cell_type": "markdown",
   "id": "f646c9ef",
   "metadata": {},
   "source": [
    "# Summer Olympics Data Analysis Assignment"
   ]
  },
  {
   "cell_type": "code",
   "execution_count": 2,
   "id": "8bf95d44",
   "metadata": {},
   "outputs": [],
   "source": [
    "#Importing Libraries\n",
    "import pandas as pd"
   ]
  },
  {
   "cell_type": "code",
   "execution_count": 3,
   "id": "e9ab4d38",
   "metadata": {},
   "outputs": [],
   "source": [
    "#Reading data from csv\n",
    "data = pd.read_csv('summer.csv')"
   ]
  },
  {
   "cell_type": "code",
   "execution_count": 4,
   "id": "11591761",
   "metadata": {},
   "outputs": [
    {
     "data": {
      "text/html": [
       "<div>\n",
       "<style scoped>\n",
       "    .dataframe tbody tr th:only-of-type {\n",
       "        vertical-align: middle;\n",
       "    }\n",
       "\n",
       "    .dataframe tbody tr th {\n",
       "        vertical-align: top;\n",
       "    }\n",
       "\n",
       "    .dataframe thead th {\n",
       "        text-align: right;\n",
       "    }\n",
       "</style>\n",
       "<table border=\"1\" class=\"dataframe\">\n",
       "  <thead>\n",
       "    <tr style=\"text-align: right;\">\n",
       "      <th></th>\n",
       "      <th>Year</th>\n",
       "      <th>City</th>\n",
       "      <th>Sport</th>\n",
       "      <th>Discipline</th>\n",
       "      <th>Athlete</th>\n",
       "      <th>Country</th>\n",
       "      <th>Gender</th>\n",
       "      <th>Event</th>\n",
       "      <th>Medal</th>\n",
       "    </tr>\n",
       "  </thead>\n",
       "  <tbody>\n",
       "    <tr>\n",
       "      <th>0</th>\n",
       "      <td>1896</td>\n",
       "      <td>Athens</td>\n",
       "      <td>Aquatics</td>\n",
       "      <td>Swimming</td>\n",
       "      <td>HAJOS, Alfred</td>\n",
       "      <td>HUN</td>\n",
       "      <td>Men</td>\n",
       "      <td>100M Freestyle</td>\n",
       "      <td>Gold</td>\n",
       "    </tr>\n",
       "    <tr>\n",
       "      <th>1</th>\n",
       "      <td>1896</td>\n",
       "      <td>Athens</td>\n",
       "      <td>Aquatics</td>\n",
       "      <td>Swimming</td>\n",
       "      <td>HERSCHMANN, Otto</td>\n",
       "      <td>AUT</td>\n",
       "      <td>Men</td>\n",
       "      <td>100M Freestyle</td>\n",
       "      <td>Silver</td>\n",
       "    </tr>\n",
       "    <tr>\n",
       "      <th>2</th>\n",
       "      <td>1896</td>\n",
       "      <td>Athens</td>\n",
       "      <td>Aquatics</td>\n",
       "      <td>Swimming</td>\n",
       "      <td>DRIVAS, Dimitrios</td>\n",
       "      <td>GRE</td>\n",
       "      <td>Men</td>\n",
       "      <td>100M Freestyle For Sailors</td>\n",
       "      <td>Bronze</td>\n",
       "    </tr>\n",
       "    <tr>\n",
       "      <th>3</th>\n",
       "      <td>1896</td>\n",
       "      <td>Athens</td>\n",
       "      <td>Aquatics</td>\n",
       "      <td>Swimming</td>\n",
       "      <td>MALOKINIS, Ioannis</td>\n",
       "      <td>GRE</td>\n",
       "      <td>Men</td>\n",
       "      <td>100M Freestyle For Sailors</td>\n",
       "      <td>Gold</td>\n",
       "    </tr>\n",
       "    <tr>\n",
       "      <th>4</th>\n",
       "      <td>1896</td>\n",
       "      <td>Athens</td>\n",
       "      <td>Aquatics</td>\n",
       "      <td>Swimming</td>\n",
       "      <td>CHASAPIS, Spiridon</td>\n",
       "      <td>GRE</td>\n",
       "      <td>Men</td>\n",
       "      <td>100M Freestyle For Sailors</td>\n",
       "      <td>Silver</td>\n",
       "    </tr>\n",
       "    <tr>\n",
       "      <th>...</th>\n",
       "      <td>...</td>\n",
       "      <td>...</td>\n",
       "      <td>...</td>\n",
       "      <td>...</td>\n",
       "      <td>...</td>\n",
       "      <td>...</td>\n",
       "      <td>...</td>\n",
       "      <td>...</td>\n",
       "      <td>...</td>\n",
       "    </tr>\n",
       "    <tr>\n",
       "      <th>31160</th>\n",
       "      <td>2012</td>\n",
       "      <td>London</td>\n",
       "      <td>Wrestling</td>\n",
       "      <td>Wrestling Freestyle</td>\n",
       "      <td>JANIKOWSKI, Damian</td>\n",
       "      <td>POL</td>\n",
       "      <td>Men</td>\n",
       "      <td>Wg 84 KG</td>\n",
       "      <td>Bronze</td>\n",
       "    </tr>\n",
       "    <tr>\n",
       "      <th>31161</th>\n",
       "      <td>2012</td>\n",
       "      <td>London</td>\n",
       "      <td>Wrestling</td>\n",
       "      <td>Wrestling Freestyle</td>\n",
       "      <td>REZAEI, Ghasem Gholamreza</td>\n",
       "      <td>IRI</td>\n",
       "      <td>Men</td>\n",
       "      <td>Wg 96 KG</td>\n",
       "      <td>Gold</td>\n",
       "    </tr>\n",
       "    <tr>\n",
       "      <th>31162</th>\n",
       "      <td>2012</td>\n",
       "      <td>London</td>\n",
       "      <td>Wrestling</td>\n",
       "      <td>Wrestling Freestyle</td>\n",
       "      <td>TOTROV, Rustam</td>\n",
       "      <td>RUS</td>\n",
       "      <td>Men</td>\n",
       "      <td>Wg 96 KG</td>\n",
       "      <td>Silver</td>\n",
       "    </tr>\n",
       "    <tr>\n",
       "      <th>31163</th>\n",
       "      <td>2012</td>\n",
       "      <td>London</td>\n",
       "      <td>Wrestling</td>\n",
       "      <td>Wrestling Freestyle</td>\n",
       "      <td>ALEKSANYAN, Artur</td>\n",
       "      <td>ARM</td>\n",
       "      <td>Men</td>\n",
       "      <td>Wg 96 KG</td>\n",
       "      <td>Bronze</td>\n",
       "    </tr>\n",
       "    <tr>\n",
       "      <th>31164</th>\n",
       "      <td>2012</td>\n",
       "      <td>London</td>\n",
       "      <td>Wrestling</td>\n",
       "      <td>Wrestling Freestyle</td>\n",
       "      <td>LIDBERG, Jimmy</td>\n",
       "      <td>SWE</td>\n",
       "      <td>Men</td>\n",
       "      <td>Wg 96 KG</td>\n",
       "      <td>Bronze</td>\n",
       "    </tr>\n",
       "  </tbody>\n",
       "</table>\n",
       "<p>31165 rows × 9 columns</p>\n",
       "</div>"
      ],
      "text/plain": [
       "       Year    City      Sport           Discipline  \\\n",
       "0      1896  Athens   Aquatics             Swimming   \n",
       "1      1896  Athens   Aquatics             Swimming   \n",
       "2      1896  Athens   Aquatics             Swimming   \n",
       "3      1896  Athens   Aquatics             Swimming   \n",
       "4      1896  Athens   Aquatics             Swimming   \n",
       "...     ...     ...        ...                  ...   \n",
       "31160  2012  London  Wrestling  Wrestling Freestyle   \n",
       "31161  2012  London  Wrestling  Wrestling Freestyle   \n",
       "31162  2012  London  Wrestling  Wrestling Freestyle   \n",
       "31163  2012  London  Wrestling  Wrestling Freestyle   \n",
       "31164  2012  London  Wrestling  Wrestling Freestyle   \n",
       "\n",
       "                         Athlete Country Gender                       Event  \\\n",
       "0                  HAJOS, Alfred     HUN    Men              100M Freestyle   \n",
       "1               HERSCHMANN, Otto     AUT    Men              100M Freestyle   \n",
       "2              DRIVAS, Dimitrios     GRE    Men  100M Freestyle For Sailors   \n",
       "3             MALOKINIS, Ioannis     GRE    Men  100M Freestyle For Sailors   \n",
       "4             CHASAPIS, Spiridon     GRE    Men  100M Freestyle For Sailors   \n",
       "...                          ...     ...    ...                         ...   \n",
       "31160         JANIKOWSKI, Damian     POL    Men                    Wg 84 KG   \n",
       "31161  REZAEI, Ghasem Gholamreza     IRI    Men                    Wg 96 KG   \n",
       "31162             TOTROV, Rustam     RUS    Men                    Wg 96 KG   \n",
       "31163          ALEKSANYAN, Artur     ARM    Men                    Wg 96 KG   \n",
       "31164             LIDBERG, Jimmy     SWE    Men                    Wg 96 KG   \n",
       "\n",
       "        Medal  \n",
       "0        Gold  \n",
       "1      Silver  \n",
       "2      Bronze  \n",
       "3        Gold  \n",
       "4      Silver  \n",
       "...       ...  \n",
       "31160  Bronze  \n",
       "31161    Gold  \n",
       "31162  Silver  \n",
       "31163  Bronze  \n",
       "31164  Bronze  \n",
       "\n",
       "[31165 rows x 9 columns]"
      ]
     },
     "execution_count": 4,
     "metadata": {},
     "output_type": "execute_result"
    }
   ],
   "source": [
    "# printing data\n",
    "data"
   ]
  },
  {
   "cell_type": "markdown",
   "id": "b4fd48a9",
   "metadata": {},
   "source": [
    " (1.) In how many cities Summer Olympics is held so far?"
   ]
  },
  {
   "cell_type": "code",
   "execution_count": 7,
   "id": "0c1a89aa",
   "metadata": {},
   "outputs": [
    {
     "name": "stdout",
     "output_type": "stream",
     "text": [
      "['Athens' 'Paris' 'St Louis' 'London' 'Stockholm' 'Antwerp' 'Amsterdam'\n",
      " 'Los Angeles' 'Berlin' 'Helsinki' 'Melbourne / Stockholm' 'Rome' 'Tokyo'\n",
      " 'Mexico' 'Munich' 'Montreal' 'Moscow' 'Seoul' 'Barcelona' 'Atlanta'\n",
      " 'Sydney' 'Beijing']\n"
     ]
    },
    {
     "data": {
      "text/plain": [
       "22"
      ]
     },
     "execution_count": 7,
     "metadata": {},
     "output_type": "execute_result"
    }
   ],
   "source": [
    "print(data['City'].unique())\n",
    "len(data['City'].unique()) #22 without removing nan\n",
    "#Olympics had held in 22 cities so far"
   ]
  },
  {
   "cell_type": "markdown",
   "id": "afc1fbe9",
   "metadata": {},
   "source": [
    "(2.) Which sport is having most number of Gold Medals so far? (Top 5)"
   ]
  },
  {
   "cell_type": "code",
   "execution_count": 5,
   "id": "b0413ddb",
   "metadata": {},
   "outputs": [],
   "source": [
    "#extracting sports with gold medal won\n",
    "sport_with_gold=data[data['Medal']==\"Gold\"]['Sport']\n",
    "sport_lst=[]\n",
    "#counting sport length and storing to list\n",
    "for sport in sport_with_gold.unique():\n",
    "    sport_lst.append([sport,len(sport_with_gold[sport_with_gold==sport])])"
   ]
  },
  {
   "cell_type": "code",
   "execution_count": 6,
   "id": "1de7cf93",
   "metadata": {},
   "outputs": [
    {
     "data": {
      "text/plain": [
       "<AxesSubplot:xlabel='Sport'>"
      ]
     },
     "execution_count": 6,
     "metadata": {},
     "output_type": "execute_result"
    },
    {
     "data": {
      "image/png": "[encoded data removed]",
      "text/plain": [
       "<Figure size 432x288 with 1 Axes>"
      ]
     },
     "metadata": {
      "needs_background": "light"
     },
     "output_type": "display_data"
    }
   ],
   "source": [
    "#creating dataframe with sports\n",
    "sport_data=pd.DataFrame(sport_lst,columns=['Sport','GoldWon'])\n",
    "#plotting for top 5 sport with max gold medal\n",
    "sport_data.sort_values(by='GoldWon',ascending=False).head().plot(x='Sport',y='GoldWon',kind='bar')\n",
    "\n",
    "#o/p: \n",
    "#1)Aquatics 1421\n",
    "#2)Athletics 1215\n",
    "#3)Rowing 890 \n",
    "#4)Gymnastics 820 \n",
    "#5)Fencing 552\n"
   ]
  },
  {
   "cell_type": "markdown",
   "id": "abfb1744",
   "metadata": {},
   "source": [
    "(3.) Which sport is having most number of medals so far? (Top 5)"
   ]
  },
  {
   "cell_type": "code",
   "execution_count": 8,
   "id": "5d699f77",
   "metadata": {},
   "outputs": [
    {
     "data": {
      "text/plain": [
       "<AxesSubplot:xlabel='Sport'>"
      ]
     },
     "execution_count": 8,
     "metadata": {},
     "output_type": "execute_result"
    },
    {
     "data": {
      "image/png": "[encoded data removed]",
      "text/plain": [
       "<Figure size 432x288 with 1 Axes>"
      ]
     },
     "metadata": {
      "needs_background": "light"
     },
     "output_type": "display_data"
    }
   ],
   "source": [
    "#sport with max count will have max medals in total\n",
    "sport_with_max_medal=[]\n",
    "#appending list with count and sport_type \n",
    "for sport in data['Sport'].unique():\n",
    "    sport_with_max_medal.append([sport,len(data[data['Sport']==sport])])\n",
    "\n",
    "#creating dataframe with sports\n",
    "maxmedalsport_data=pd.DataFrame(sport_with_max_medal,columns=['Sport','MaxMedal'])\n",
    "#plotting for top 5 sport wwith max medal\n",
    "maxmedalsport_data.sort_values(by='MaxMedal',ascending=False).head().plot(x='Sport',y='MaxMedal',kind='bar')\n",
    "\n",
    "#o/p:\n",
    "    #Aquatics\t4170\n",
    "    #Athletics\t3638\n",
    "    #Rowing\t2667\n",
    "    #Gymnastics\t2307\n",
    "    #Fencing\t1613"
   ]
  },
  {
   "cell_type": "markdown",
   "id": "c53cee76",
   "metadata": {},
   "source": [
    "(4.) Which player has won most number of medals? (Top 5)"
   ]
  },
  {
   "cell_type": "code",
   "execution_count": 5,
   "id": "353d9bff",
   "metadata": {},
   "outputs": [
    {
     "name": "stdout",
     "output_type": "stream",
     "text": [
      "                    Athlete  MaxMedal\n",
      "18640       PHELPS, Michael        22\n",
      "7197       LATYNINA, Larisa        18\n",
      "9948     ANDRIANOV, Nikolay        15\n",
      "6591           ONO, Takashi        13\n",
      "5103   MANGIAROTTI, Edoardo        13\n"
     ]
    },
    {
     "data": {
      "text/plain": [
       "<AxesSubplot:xlabel='Athlete'>"
      ]
     },
     "execution_count": 5,
     "metadata": {},
     "output_type": "execute_result"
    },
    {
     "data": {
      "image/png": "[encoded data removed]",
      "text/plain": [
       "<Figure size 432x288 with 1 Axes>"
      ]
     },
     "metadata": {
      "needs_background": "light"
     },
     "output_type": "display_data"
    }
   ],
   "source": [
    "#player with max frequency is the one who won max medals\n",
    "player_with_max_medal=[]\n",
    "#appending list with count and sport_type \n",
    "for athlete in data['Athlete'].unique():\n",
    "    player_with_max_medal.append([athlete,len(data[data['Athlete']==athlete])])\n",
    "\n",
    "#creating dataframe with Player_freq in dataset\n",
    "maxmedalplayer_data=pd.DataFrame(player_with_max_medal,columns=['Athlete','MaxMedal'])\n",
    "\n",
    "#plotting for top 5 countries wo won gold medal\n",
    "print(maxmedalplayer_data.sort_values(by='MaxMedal',ascending=False).head())\n",
    "maxmedalplayer_data.sort_values(by='MaxMedal',ascending=False).head().plot(x='Athlete',y='MaxMedal',kind='bar')\n",
    "\n"
   ]
  },
  {
   "cell_type": "markdown",
   "id": "93bfffab",
   "metadata": {},
   "source": [
    "(5.) Which player has won most number Gold Medals of medals? (Top 5)"
   ]
  },
  {
   "cell_type": "code",
   "execution_count": 7,
   "id": "e92a11f0",
   "metadata": {},
   "outputs": [],
   "source": [
    "#extracting Athlete with gold medal won\n",
    "athlete_with_gold=data[data['Medal']==\"Gold\"]['Athlete']\n",
    "athlete_lst=[]\n",
    "#counting Athlete length and storing to list\n",
    "for athlete in athlete_with_gold.unique():\n",
    "    athlete_lst.append([athlete,len(athlete_with_gold[athlete_with_gold==athlete])])\n",
    "#athlete_lst contains all athlete with frequency of gold won"
   ]
  },
  {
   "cell_type": "code",
   "execution_count": 8,
   "id": "78300af4",
   "metadata": {},
   "outputs": [
    {
     "name": "stdout",
     "output_type": "stream",
     "text": [
      "               Athlete  GoldWon\n",
      "6851   PHELPS, Michael       18\n",
      "3320       SPITZ, Mark        9\n",
      "2714  LATYNINA, Larisa        9\n",
      "4630       LEWIS, Carl        9\n",
      "907       NURMI, Paavo        9\n"
     ]
    },
    {
     "data": {
      "text/plain": [
       "<AxesSubplot:xlabel='Athlete'>"
      ]
     },
     "execution_count": 8,
     "metadata": {},
     "output_type": "execute_result"
    },
    {
     "data": {
      "image/png": "[encoded data removed]",
      "text/plain": [
       "<Figure size 432x288 with 1 Axes>"
      ]
     },
     "metadata": {
      "needs_background": "light"
     },
     "output_type": "display_data"
    }
   ],
   "source": [
    "#creating dataframe with sports\n",
    "athlete_data=pd.DataFrame(athlete_lst,columns=['Athlete','GoldWon'])\n",
    "#plotting for top 5 sport with max gold medal\n",
    "print(athlete_data.sort_values(by='GoldWon',ascending=False).head())\n",
    "athlete_data.sort_values(by='GoldWon',ascending=False).head().plot(x='Athlete',y='GoldWon',kind='bar')\n"
   ]
  },
  {
   "cell_type": "markdown",
   "id": "35798649",
   "metadata": {},
   "source": [
    "(6.) In which year India won first Gold Medal in Summer Olympics?"
   ]
  },
  {
   "cell_type": "code",
   "execution_count": 15,
   "id": "a9c5466b",
   "metadata": {},
   "outputs": [
    {
     "data": {
      "text/plain": [
       "1928"
      ]
     },
     "execution_count": 15,
     "metadata": {},
     "output_type": "execute_result"
    }
   ],
   "source": [
    "India=data[data['Country']=='IND'] \n",
    "gold_india_won=India[India['Medal']=='Gold']\n",
    "min(gold_india_won['Year']) #1928\n",
    "\n",
    "#o/p: India won first gold in 1928"
   ]
  },
  {
   "cell_type": "markdown",
   "id": "7c904223",
   "metadata": {},
   "source": [
    "(7.) Which event is most popular in terms on number of players? (Top 5)"
   ]
  },
  {
   "cell_type": "code",
   "execution_count": 16,
   "id": "49ee1615",
   "metadata": {},
   "outputs": [
    {
     "data": {
      "text/plain": [
       "<AxesSubplot:xlabel='Event'>"
      ]
     },
     "execution_count": 16,
     "metadata": {},
     "output_type": "execute_result"
    },
    {
     "data": {
      "image/png": "[encoded data removed]",
      "text/plain": [
       "<Figure size 432x288 with 1 Axes>"
      ]
     },
     "metadata": {
      "needs_background": "light"
     },
     "output_type": "display_data"
    }
   ],
   "source": [
    "#most popular event is the most occured event\n",
    "event_=[]\n",
    "for event in data['Event'].unique():\n",
    "    event_.append([event,len(data[data['Event']==event])])\n",
    "event_df=pd.DataFrame(event_,columns=['Event','Player Count'])\n",
    "event_df.sort_values(by='Player Count',ascending=False).head().plot(x='Event',y='Player Count',kind='bar')\n",
    "\n",
    "#o/p popular event in terms of no. of player:\n",
    "#Football\t1497\n",
    "#Hockey\t1422\n",
    "#Team Competition\t1147\n",
    "#Basketball\t1012\n",
    "#Handball\t973"
   ]
  },
  {
   "cell_type": "markdown",
   "id": "a35a233c",
   "metadata": {},
   "source": [
    "(8.) Which sport is having most female Gold Medalists?"
   ]
  },
  {
   "cell_type": "code",
   "execution_count": 18,
   "id": "52ea9476",
   "metadata": {},
   "outputs": [],
   "source": [
    "#extracting womens from dataset\n",
    "women=data[data['Gender']=='Women']\n",
    "#extracting them who won gold\n",
    "women_with_gold=women[women['Medal']== 'Gold']\n",
    "sport_with_women_gold=[]\n",
    "#sport wise calculating frequency of gold wons\n",
    "for sport in women_with_gold['Sport'].unique():\n",
    "    sport_with_women_gold.append([sport,len(women_with_gold[women_with_gold['Sport']==sport])])"
   ]
  },
  {
   "cell_type": "code",
   "execution_count": 19,
   "id": "e3c48ebd",
   "metadata": {},
   "outputs": [
    {
     "data": {
      "text/plain": [
       "<AxesSubplot:xlabel='Sport'>"
      ]
     },
     "execution_count": 19,
     "metadata": {},
     "output_type": "execute_result"
    },
    {
     "data": {
      "image/png": "[encoded data removed]",
      "text/plain": [
       "<Figure size 432x288 with 1 Axes>"
      ]
     },
     "metadata": {
      "needs_background": "light"
     },
     "output_type": "display_data"
    }
   ],
   "source": [
    "#creatinf dataframe and plotting for top 5\n",
    "df=pd.DataFrame(sport_with_women_gold,columns=['Sport','GoldWon'])\n",
    "df.sort_values(by='GoldWon',ascending=False).head().plot(x='Sport',y='GoldWon',kind='bar')\n",
    "\n",
    "#o/p: Women with max gold won in sports listed:\n",
    "#Aquatics\t589\n",
    "#Athletics\t389\n",
    "#Gymnastics\t268\n",
    "#Rowing\t217\n",
    "#Volleyball\t166"
   ]
  }
 ],
 "metadata": {
  "kernelspec": {
   "display_name": "Python 3",
   "language": "python",
   "name": "python3"
  },
  "language_info": {
   "codemirror_mode": {
    "name": "ipython",
    "version": 3
   },
   "file_extension": ".py",
   "mimetype": "text/x-python",
   "name": "python",
   "nbconvert_exporter": "python",
   "pygments_lexer": "ipython3",
   "version": "3.8.5"
  }
 },
 "nbformat": 4,
 "nbformat_minor": 5
}
